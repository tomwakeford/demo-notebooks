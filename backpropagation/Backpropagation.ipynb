{
 "cells": [
  {
   "cell_type": "markdown",
   "metadata": {
    "deletable": true,
    "editable": true
   },
   "source": [
    "## Backpropagation\n",
    "\n",
    "Supervised learning of the weights in a feedforward neural network can be achieved by peforming gradient descent on an error function.  To do so, it is necessary to compute the error gradient with respect to every weight in the network.  In a multi-layer network, the error at the output must be backpropagated through the layers in order to calculate all the required gradients.\n",
    "\n",
    "I will derive the mathematical expressions that can be used to compute the gradients and then work through an implementation that can be applied to a multi-layer perceptron of any structure, that is any number of layers with any number of neurons in each layer.\n",
    "\n",
    "### A single neuron\n",
    "\n",
    "A single neuron has a number of weighted inputs.  The total input, known as the activation, is the sum-product of the input signals and the corresponding weights.  So for $n$ inputs, $x_i$ ($i \\in$ 1...$n$), and corresponding weights $ w_i $, \n",
    "the activation, $a$, is given by\n",
    "\n",
    "$$ a = \\sum_{i=1}^n w_i x_i $$\n",
    "\n",
    "The output of the neuron, $y$, is some (usually non-linear) function of the activation:\n",
    "\n",
    "$$ y = f(a) $$\n",
    "\n",
    "Training data comprises of a set of $N$ examples, each of which consists of an input pattern, $X_j = (x_1, x_2,...,x_n)_j^T$, and the corresponding target output, $t_j$ ($j \\in  1...N$)\n",
    "\n",
    "For each input pattern, the neuron gives a predicted output, which can be used in conjunction with the target output to quantify the prediction error.\n",
    "\n",
    "The aim is to find a set of weights that will minimise the total error across all possible input patterns.  However, it is usually not possible to enumerate all the possible input patterns nor to determine the expected output in all cases.  If it were, there would be no need to build a predictive model!  So learning proceeds by finding weights that will minimise the error across all the training examples, rather than across all possible inputs.  In addition, some procedure must be employed to try to ensure that the learned weights will give good predictions when applied to input patterns that were not part of the training set.  In other words, steps must be taken to ensure that training does not lead to overfitting to the training set, so that the network generalises well.  For the time being we will ignore this consideration and just look at how to minimise the training error.\n",
    "\n",
    "Provided that the functions $f$ and $E_j$ are differentiable, then it is possible to determine the error derivative with respect to each weight and then descend the gradient to find the weights that minimise the error.  The training examples can be batched together to calculate an average gradient or each example can be processed individually and the weights updated for each one.  This is the approach that we will take.  So, if the $j^{th}$ training example is presented at step $t$, all weights will be updated according to:\n",
    "\n",
    "$$ w_i(t+1) = w_i(t) - \\eta \\frac{\\partial E_j}{\\partial w_i} $$\n",
    "\n",
    "Where $\\eta$ is a learning rate.  The derivatives can be computed according to:\n",
    "$$ \\frac{\\partial E_j}{\\partial w_i} = \\frac{dE_j}{dy} \\frac{dy}{da} \\frac{\\partial a}{\\partial w_i} $$\n",
    "\n",
    "In this case, we will use a squared error function: $ E_j = \\frac{1}{2} (y - t_j)^2 $, giving\n",
    "$$ \\frac{dE_j}{dy} = y - t_j $$\n",
    "\n",
    "If we use a sigmoid activation function, $ f(a) = \\frac{1}{1 - e^{-a}} $, then:\n",
    "$$ \\frac{dy}{da} = f(a)(1 - f(a)) $$\n",
    "\n",
    "Finally,\n",
    "$$ \\frac{\\partial a}{\\partial w_i} = x_i  $$\n",
    "\n",
    "Yielding \n",
    "$$ \\frac{\\partial E_j}{\\partial w_i} = (y - t_j)f(a)(1-f(a))x_i = (y - t_j)y(1 - y)x_i $$\n",
    "\n"
   ]
  },
  {
   "cell_type": "code",
   "execution_count": 1,
   "metadata": {
    "collapsed": false,
    "deletable": true,
    "editable": true
   },
   "outputs": [],
   "source": [
    "import numpy as np\n",
    "\n",
    "def single_neuron(inputs, weights):\n",
    "    # from IPython.core.debugger import Tracer; Tracer()()\n",
    "    activation = np.dot(weights, inputs)\n",
    "    output = sigmoid(activation)\n",
    "    output_gradient = output * (1 - output)\n",
    "    return (output, output_gradient)\n",
    "    \n",
    "def sigmoid(x):\n",
    "    return 1/(1 + np.exp(-x))\n",
    "\n",
    "def single_neuron_weight_gradients(inputs, target, output, output_gradient):\n",
    "    return (output - target) * output_gradient * inputs.T\n",
    "\n",
    "def update_weights(weights, weight_gradients, learning_rate):\n",
    "    return weights - learning_rate * weight_gradients\n",
    "\n",
    "def normalise(vector):\n",
    "    norm = np.linalg.norm(vector, 2)\n",
    "    if norm != 0:\n",
    "        return 100 * vector/np.linalg.norm(vector, 2)\n",
    "    else:\n",
    "        return vector"
   ]
  },
  {
   "cell_type": "code",
   "execution_count": 2,
   "metadata": {
    "collapsed": false,
    "deletable": true,
    "editable": true
   },
   "outputs": [],
   "source": [
    "import matplotlib.pyplot as plt\n",
    "%matplotlib inline\n",
    "\n",
    "def test_data_2_classes(means, covariances, examples_per_class):\n",
    "    data0 = np.random.multivariate_normal(means[0],covariances[0], examples_per_class)\n",
    "    data1 = np.random.multivariate_normal(means[1],covariances[1], examples_per_class)\n",
    "    output0 = [(data, 0) for data in data0]\n",
    "    output1 = [(data, 1) for data in data1]\n",
    "    output0.extend(output1)\n",
    "    return output0\n",
    "\n",
    "def plot_2d_data_2_classes(data, ax=None):\n",
    "    \n",
    "    if ax is None:\n",
    "        fig = plt.figure()\n",
    "        ax = fig.add_subplot(1,1,1)        \n",
    "    \n",
    "    color_string = ('r', 'b')\n",
    "    \n",
    "    for loop_num in (0, 1):\n",
    "        inputs = [data[n][0] for n in range(len(data)) if data[n][1]==loop_num]\n",
    "        x1 = [inputs[n][0] for n in range(len(inputs))]\n",
    "        x2 = [inputs[n][1] for n in range(len(inputs))]\n",
    "        ax.scatter(x1, x2, color=color_string[loop_num])\n",
    "    \n",
    "    return ax"
   ]
  },
  {
   "cell_type": "code",
   "execution_count": 3,
   "metadata": {
    "collapsed": false,
    "deletable": true,
    "editable": true
   },
   "outputs": [
    {
     "data": {
      "image/png": "[encoded data removed]",
      "text/plain": [
       "<matplotlib.figure.Figure at 0x56e15a7d30>"
      ]
     },
     "metadata": {},
     "output_type": "display_data"
    }
   ],
   "source": [
    "import matplotlib.pyplot as plt\n",
    "%matplotlib inline\n",
    "\n",
    "means = [(-2,-2), (-2,4)]\n",
    "covariances = [[[2,2],[2,3]], [[2,2],[2,3]]]\n",
    "test_data = test_data_2_classes(means, covariances, 100)\n",
    "\n",
    "fig = plt.figure()\n",
    "ax = fig.add_subplot(1,1,1)\n",
    "ax = plot_2d_data_2_classes(test_data, ax)\n",
    "plt.show()"
   ]
  },
  {
   "cell_type": "code",
   "execution_count": 4,
   "metadata": {
    "collapsed": false,
    "deletable": true,
    "editable": true
   },
   "outputs": [
    {
     "data": {
      "image/png": "[encoded data removed]",
      "text/plain": [
       "<matplotlib.figure.Figure at 0x56e239ea20>"
      ]
     },
     "metadata": {},
     "output_type": "display_data"
    }
   ],
   "source": [
    "number_of_epochs = 1000\n",
    "weights = np.array([0.1,0.1,0.1])\n",
    "# from IPython.core.debugger import Tracer; Tracer()()\n",
    "\n",
    "total_error_list = []\n",
    "\n",
    "for epoch in range(number_of_epochs):\n",
    "    np.random.shuffle(test_data)\n",
    "    for example in test_data:\n",
    "        # from IPython.core.debugger import Tracer; Tracer()()\n",
    "        inputs = np.concatenate((np.array([1]), example[0]))\n",
    "        # from IPython.core.debugger import Tracer; Tracer()()\n",
    "        target = example[1]\n",
    "        (output, output_gradient) = single_neuron(inputs, weights)\n",
    "        weight_gradients = single_neuron_weight_gradients(inputs, target, output, output_gradient)\n",
    "        weights = update_weights(weights, weight_gradients, 0.1)        \n",
    "    # weights = normalise(weights)\n",
    "\n",
    "    # At the end of each epoch, caculate the error over all training examples\n",
    "    total_error = 0\n",
    "    for example in test_data:\n",
    "        inputs = np.concatenate((np.array([1]), example[0]))        \n",
    "        target = example[1]\n",
    "        total_error += (sigmoid(np.dot(weights, inputs)) - target)**2\n",
    "    total_error_list.append(total_error)\n",
    "        \n",
    "# from IPython.core.debugger import Tracer; Tracer()()\n",
    "normalised_weights = normalise(weights)\n",
    "x = np.arange(-5,5,0.1)\n",
    "y = (-weights[1] * x - weights[0])/weights[2]\n",
    "y2 = (-normalised_weights[1] * x - normalised_weights[0])/normalised_weights[2]\n",
    "fig = plt.figure()\n",
    "ax1 = fig.add_subplot(1,2,1)\n",
    "ax2 = fig.add_subplot(1,2,2)\n",
    "ax1 = plot_2d_data_2_classes(test_data, ax1)\n",
    "ax1.plot(x,y,'b')\n",
    "ax1.plot(x,y2,'r')\n",
    "# from IPython.core.debugger import Tracer; Tracer()()\n",
    "ax2.plot([n + 1 for n in range(len(total_error_list))], total_error_list)\n",
    "plt.show()"
   ]
  },
  {
   "cell_type": "code",
   "execution_count": 5,
   "metadata": {
    "collapsed": false,
    "deletable": true,
    "editable": true
   },
   "outputs": [
    {
     "name": "stdout",
     "output_type": "stream",
     "text": [
      "[-6.31868961 -2.20988452  2.89090994]\n",
      "7.29155595483\n"
     ]
    }
   ],
   "source": [
    "print(weights)\n",
    "print(np.linalg.norm(weights,2))"
   ]
  },
  {
   "cell_type": "markdown",
   "metadata": {
    "deletable": true,
    "editable": true
   },
   "source": [
    "To test full backprop - estimate error derivatives by bumping activations and observing the effect on the output."
   ]
  }
 ],
 "metadata": {
  "kernelspec": {
   "display_name": "Python 3",
   "language": "python",
   "name": "python3"
  },
  "language_info": {
   "codemirror_mode": {
    "name": "ipython",
    "version": 3
   },
   "file_extension": ".py",
   "mimetype": "text/x-python",
   "name": "python",
   "nbconvert_exporter": "python",
   "pygments_lexer": "ipython3",
   "version": "3.5.3"
  }
 },
 "nbformat": 4,
 "nbformat_minor": 0
}
